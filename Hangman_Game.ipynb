{
  "nbformat": 4,
  "nbformat_minor": 0,
  "metadata": {
    "colab": {
      "provenance": []
    },
    "kernelspec": {
      "name": "python3",
      "display_name": "Python 3"
    },
    "language_info": {
      "name": "python"
    }
  },
  "cells": [
    {
      "cell_type": "markdown",
      "source": [
        "Welcome! In this project, we'll build the classic Hangman game using Python in Google Colab. We'll approach this step-by-step, explaining each part in this project\n",
        "\n",
        "Let's get started !"
      ],
      "metadata": {
        "id": "jpDFIF17tse3"
      }
    },
    {
      "cell_type": "markdown",
      "source": [
        "Introduction"
      ],
      "metadata": {
        "id": "5F_RGXP-tuUH"
      }
    },
    {
      "cell_type": "markdown",
      "source": [
        "Hangman is one of the most well-known word-guessing games, wherein players try to guess a hidden word by suggesting letters within a limited number of attempts. The following tutorial will attempt to implement Hangman in Python; emphasis will be placed on modular design, with the game broken down into several short functions. Together, these functions form a complete and functional game."
      ],
      "metadata": {
        "id": "6ISbLD8ctxae"
      }
    },
    {
      "cell_type": "markdown",
      "source": [
        "Setting Up the Google Colab Environment"
      ],
      "metadata": {
        "id": "Hz-GcyyuuATe"
      }
    },
    {
      "cell_type": "markdown",
      "source": [
        "Google Colab is a free online platform that allows you to write and execute Python code through your browser."
      ],
      "metadata": {
        "id": "_nGT4HheuHT5"
      }
    },
    {
      "cell_type": "markdown",
      "source": [
        "Understanding the Game Mechanics"
      ],
      "metadata": {
        "id": "eTyCTymbuLAK"
      }
    },
    {
      "cell_type": "markdown",
      "source": [
        "Before proceeding to code, it is important to know how Hangman works.\n",
        "\n",
        "Secret Word: A random word is chosen by the game, which the player has to guess.\n",
        "Masking: The confidential term is hidden using asterisks (*), without showing its individual characters.\n",
        "Guessing Letters: A player can guess only one letter at a time.\n",
        "Reveal Letters: If the guessed letter appears anywhere in the secret word, it replaces the asterisk of each occurrence.\n",
        "Winnings and Losses:\n",
        "Win: The player guesses all the letters before using up all the tries. Lose: The player uses all his attempts without guessing the word."
      ],
      "metadata": {
        "id": "7PAtRuYbuXdW"
      }
    },
    {
      "cell_type": "markdown",
      "source": [
        "Function Implementations\n",
        "\n",
        "We'll implement the following functions:\n",
        "\n",
        "mask_word\n",
        "\n",
        "uncover_word\n",
        "\n",
        "get_random_word\n",
        "\n",
        "guess_letter"
      ],
      "metadata": {
        "id": "Zz29EyeeuaqR"
      }
    },
    {
      "cell_type": "markdown",
      "source": [
        "mask_word Function"
      ],
      "metadata": {
        "id": "difE6U6qukhy"
      }
    },
    {
      "cell_type": "code",
      "source": [
        "def mask_word(word):\n",
        "    \"\"\"\n",
        "    Masks the given word by replacing each character with an asterisk.\n",
        "\n",
        "    Parameters:\n",
        "    - word (str): The word to be masked.\n",
        "\n",
        "    Returns:\n",
        "    - str: The masked word with asterisks.\n",
        "    \"\"\"\n",
        "    if not word:\n",
        "        raise ValueError(\"Invalid word. Word cannot be empty.\")\n",
        "    return '*' * len(word)\n"
      ],
      "metadata": {
        "id": "-lzTVYbYuF3t"
      },
      "execution_count": 3,
      "outputs": []
    },
    {
      "cell_type": "code",
      "source": [
        "mask_word(\"Python\")\n"
      ],
      "metadata": {
        "colab": {
          "base_uri": "https://localhost:8080/",
          "height": 36
        },
        "id": "4wJzkcSEutb9",
        "outputId": "e2f16584-1a84-49fc-d307-6e337d4c7679"
      },
      "execution_count": 4,
      "outputs": [
        {
          "output_type": "execute_result",
          "data": {
            "text/plain": [
              "'******'"
            ],
            "application/vnd.google.colaboratory.intrinsic+json": {
              "type": "string"
            }
          },
          "metadata": {},
          "execution_count": 4
        }
      ]
    },
    {
      "cell_type": "code",
      "source": [
        "print(mask_word(\"Python\"))\n",
        "print(mask_word(\"Hangman\"))\n",
        "print(mask_word(\"a\"))"
      ],
      "metadata": {
        "colab": {
          "base_uri": "https://localhost:8080/"
        },
        "id": "p92vQOk8uyz5",
        "outputId": "a2fb8ae3-763c-40e6-9d03-cbf8f4039a7c"
      },
      "execution_count": 5,
      "outputs": [
        {
          "output_type": "stream",
          "name": "stdout",
          "text": [
            "******\n",
            "*******\n",
            "*\n"
          ]
        }
      ]
    },
    {
      "cell_type": "markdown",
      "source": [
        "Edge Cases:\n"
      ],
      "metadata": {
        "id": "4klll8Glu70k"
      }
    },
    {
      "cell_type": "markdown",
      "source": [
        "Empty String:\n",
        "\n"
      ],
      "metadata": {
        "id": "dVvDi73ru9vW"
      }
    },
    {
      "cell_type": "code",
      "source": [
        "try:\n",
        "    mask_word(\"\")\n",
        "except ValueError as e:\n",
        "    print(e)\n"
      ],
      "metadata": {
        "colab": {
          "base_uri": "https://localhost:8080/"
        },
        "id": "dl9ONsyQu4eX",
        "outputId": "ba5f4af5-7202-4fd8-c95e-9ab475eb785b"
      },
      "execution_count": 6,
      "outputs": [
        {
          "output_type": "stream",
          "name": "stdout",
          "text": [
            "Invalid word. Word cannot be empty.\n"
          ]
        }
      ]
    },
    {
      "cell_type": "markdown",
      "source": [
        "Numeric Strings:\n",
        "\n"
      ],
      "metadata": {
        "id": "G75Q0svSvCp0"
      }
    },
    {
      "cell_type": "code",
      "source": [
        "print(mask_word(\"12345\"))\n"
      ],
      "metadata": {
        "colab": {
          "base_uri": "https://localhost:8080/"
        },
        "id": "45yYaU7MvAox",
        "outputId": "e178ee2b-4305-4bbe-bb35-cc1d230333d9"
      },
      "execution_count": 7,
      "outputs": [
        {
          "output_type": "stream",
          "name": "stdout",
          "text": [
            "*****\n"
          ]
        }
      ]
    },
    {
      "cell_type": "markdown",
      "source": [
        "uncover_word Function"
      ],
      "metadata": {
        "id": "-y4yiB4J09rH"
      }
    },
    {
      "cell_type": "code",
      "source": [
        "def uncover_word(answer_word, masked_word, guessed_letter):\n",
        "    \"\"\"\n",
        "    Uncovers the guessed letter in the masked word if it exists in the answer word.\n",
        "\n",
        "    Parameters:\n",
        "    - answer_word (str): The original word to guess.\n",
        "    - masked_word (str): The current state of the masked word.\n",
        "    - guessed_letter (str): The letter guessed by the player.\n",
        "\n",
        "    Returns:\n",
        "    - str: The updated masked word after uncovering the guessed letter.\n",
        "    \"\"\"\n",
        "    if not answer_word or not masked_word or not guessed_letter:\n",
        "        raise ValueError(\"Invalid input. None of the parameters can be empty.\")\n",
        "\n",
        "    if len(guessed_letter) != 1:\n",
        "        raise ValueError(\"Invalid guessed letter. Must be a single character.\")\n",
        "\n",
        "    if len(answer_word) != len(masked_word):\n",
        "        raise ValueError(\"Answer word and masked word must be of the same length.\")\n",
        "\n",
        "    guessed_letter = guessed_letter.lower()\n",
        "    answer_word = answer_word.lower()\n",
        "    masked_word = list(masked_word)\n",
        "\n",
        "    for idx, char in enumerate(answer_word):\n",
        "        if char == guessed_letter:\n",
        "            masked_word[idx] = guessed_letter\n",
        "\n",
        "    return ''.join(masked_word)\n"
      ],
      "metadata": {
        "id": "S4hzlo1TvF3i"
      },
      "execution_count": 8,
      "outputs": []
    },
    {
      "cell_type": "code",
      "source": [
        "uncover_word(\"Python\", \"******\", \"y\")\n",
        "uncover_word(\"Python\", \"*y****\", \"n\")\n",
        "uncover_word(\"Python\", \"******\", \"x\")\n"
      ],
      "metadata": {
        "colab": {
          "base_uri": "https://localhost:8080/",
          "height": 36
        },
        "id": "TqshuDHC1K6I",
        "outputId": "29ddfb1c-4311-4771-c3cd-a1769a088981"
      },
      "execution_count": 10,
      "outputs": [
        {
          "output_type": "execute_result",
          "data": {
            "text/plain": [
              "'******'"
            ],
            "application/vnd.google.colaboratory.intrinsic+json": {
              "type": "string"
            }
          },
          "metadata": {},
          "execution_count": 10
        }
      ]
    },
    {
      "cell_type": "code",
      "source": [
        "print(uncover_word(\"Python\", \"******\", \"y\"))\n",
        "print(uncover_word(\"Python\", \"*y****\", \"n\"))\n",
        "print(uncover_word(\"Python\", \"******\", \"x\"))\n",
        "print(uncover_word(\"Python\", \"*y****\", \"x\"))\n"
      ],
      "metadata": {
        "colab": {
          "base_uri": "https://localhost:8080/"
        },
        "id": "-kMp0BnK1TD3",
        "outputId": "825ee6da-9f0f-49a4-fa4e-1a68131f9be5"
      },
      "execution_count": 11,
      "outputs": [
        {
          "output_type": "stream",
          "name": "stdout",
          "text": [
            "*y****\n",
            "*y***n\n",
            "******\n",
            "*y****\n"
          ]
        }
      ]
    },
    {
      "cell_type": "markdown",
      "source": [
        "Edge Cases:\n"
      ],
      "metadata": {
        "id": "DuRpNZ8b1Z6L"
      }
    },
    {
      "cell_type": "markdown",
      "source": [
        "Uppercase Letters:\n",
        "\n"
      ],
      "metadata": {
        "id": "1AtjgYdO1ezC"
      }
    },
    {
      "cell_type": "code",
      "source": [
        "print(uncover_word(\"Python\", \"******\", \"P\"))\n"
      ],
      "metadata": {
        "colab": {
          "base_uri": "https://localhost:8080/"
        },
        "id": "72Mv5Q6J1XxW",
        "outputId": "2b795660-8175-4b7c-d0c0-fde0cd7df298"
      },
      "execution_count": 12,
      "outputs": [
        {
          "output_type": "stream",
          "name": "stdout",
          "text": [
            "p*****\n"
          ]
        }
      ]
    },
    {
      "cell_type": "markdown",
      "source": [
        "Invalid Guessed Letter Length:\n",
        "\n"
      ],
      "metadata": {
        "id": "saL05tie1fzV"
      }
    },
    {
      "cell_type": "code",
      "source": [
        "try:\n",
        "    uncover_word(\"Python\", \"******\", \"py\")\n",
        "except ValueError as e:\n",
        "    print(e)\n"
      ],
      "metadata": {
        "colab": {
          "base_uri": "https://localhost:8080/"
        },
        "id": "IIY72ETs1cWA",
        "outputId": "bf561245-1e2f-422b-bbba-4e46ed69391c"
      },
      "execution_count": 13,
      "outputs": [
        {
          "output_type": "stream",
          "name": "stdout",
          "text": [
            "Invalid guessed letter. Must be a single character.\n"
          ]
        }
      ]
    },
    {
      "cell_type": "markdown",
      "source": [
        "Mismatch Lengths:\n",
        "\n"
      ],
      "metadata": {
        "id": "Je62zNrM1mXl"
      }
    },
    {
      "cell_type": "code",
      "source": [
        "try:\n",
        "    uncover_word(\"Python\", \"****\", \"p\")\n",
        "except ValueError as e:\n",
        "    print(e)\n"
      ],
      "metadata": {
        "colab": {
          "base_uri": "https://localhost:8080/"
        },
        "id": "6AIXjgPx1jwv",
        "outputId": "d47f15cf-9114-49fd-ce5b-0512750bdd6c"
      },
      "execution_count": 14,
      "outputs": [
        {
          "output_type": "stream",
          "name": "stdout",
          "text": [
            "Answer word and masked word must be of the same length.\n"
          ]
        }
      ]
    },
    {
      "cell_type": "markdown",
      "source": [
        "get_random_word Function"
      ],
      "metadata": {
        "id": "22S7Sgkc1rq3"
      }
    },
    {
      "cell_type": "code",
      "source": [
        "import random\n",
        "\n",
        "def get_random_word(word_list):\n",
        "    \"\"\"\n",
        "    Selects a random word from the provided list of words.\n",
        "\n",
        "    Parameters:\n",
        "    - word_list (list): A list of words.\n",
        "\n",
        "    Returns:\n",
        "    - str: A randomly selected word from the list.\n",
        "    \"\"\"\n",
        "    if not word_list:\n",
        "        raise ValueError(\"Word list cannot be empty.\")\n",
        "    return random.choice(word_list)\n"
      ],
      "metadata": {
        "id": "iVEJZpUC1o95"
      },
      "execution_count": 15,
      "outputs": []
    },
    {
      "cell_type": "code",
      "source": [
        "words = [\"Python\", \"Hangman\", \"Programming\", \"Data\", \"Science\"]\n",
        "print(get_random_word(words))\n"
      ],
      "metadata": {
        "colab": {
          "base_uri": "https://localhost:8080/"
        },
        "id": "okfQsA8V1xar",
        "outputId": "2f73d88e-788b-4208-f2c8-03c77a5062c6"
      },
      "execution_count": 17,
      "outputs": [
        {
          "output_type": "stream",
          "name": "stdout",
          "text": [
            "Programming\n"
          ]
        }
      ]
    },
    {
      "cell_type": "markdown",
      "source": [
        "Edge Cases:\n"
      ],
      "metadata": {
        "id": "Qv-0NTdJ12rV"
      }
    },
    {
      "cell_type": "markdown",
      "source": [
        "Empty List:\n",
        "\n"
      ],
      "metadata": {
        "id": "SbH6F_CC140E"
      }
    },
    {
      "cell_type": "code",
      "source": [
        "try:\n",
        "    get_random_word([])\n",
        "except ValueError as e:\n",
        "    print(e)\n"
      ],
      "metadata": {
        "colab": {
          "base_uri": "https://localhost:8080/"
        },
        "id": "QdwPkcdw1y5v",
        "outputId": "dbf94fc0-acfd-4101-c187-20d4953adf53"
      },
      "execution_count": 19,
      "outputs": [
        {
          "output_type": "stream",
          "name": "stdout",
          "text": [
            "Word list cannot be empty.\n"
          ]
        }
      ]
    },
    {
      "cell_type": "markdown",
      "source": [
        "guess_letter Function"
      ],
      "metadata": {
        "id": "zd3oPH_X1-mX"
      }
    },
    {
      "cell_type": "code",
      "source": [
        "def guess_letter(game, guessed_letter):\n",
        "    \"\"\"\n",
        "    Processes a player's guessed letter, updating the game state.\n",
        "\n",
        "    Parameters:\n",
        "    - game (dict): The current game state.\n",
        "    - guessed_letter (str): The letter guessed by the player.\n",
        "\n",
        "    Returns:\n",
        "    - dict: The updated game state.\n",
        "    \"\"\"\n",
        "    if game.get('remaining_misses') == 0 or '*' not in game.get('masked_word', ''):\n",
        "        raise ValueError(\"Game is already over.\")\n",
        "\n",
        "    if not guessed_letter or len(guessed_letter) != 1:\n",
        "        raise ValueError(\"Invalid guessed letter. Must be a single character.\")\n",
        "\n",
        "    guessed_letter = guessed_letter.lower()\n",
        "    answer_word = game['answer_word'].lower()\n",
        "\n",
        "    if guessed_letter in game['previous_guesses']:\n",
        "        print(f\"You've already guessed '{guessed_letter}'. Try another letter.\")\n",
        "        return game\n",
        "\n",
        "    game['previous_guesses'].append(guessed_letter)\n",
        "\n",
        "    if guessed_letter in answer_word:\n",
        "        new_masked_word = uncover_word(game['answer_word'], game['masked_word'], guessed_letter)\n",
        "        game['masked_word'] = new_masked_word\n",
        "        if '*' not in new_masked_word:\n",
        "            print(\"Congratulations! You've won the game!\")\n",
        "    else:\n",
        "        game['remaining_misses'] -= 1\n",
        "        if game['remaining_misses'] == 0:\n",
        "            print(f\"Game over! The word was '{game['answer_word']}'. Better luck next time!\")\n",
        "\n",
        "    return game\n"
      ],
      "metadata": {
        "id": "6mt6ns1U167-"
      },
      "execution_count": 20,
      "outputs": []
    },
    {
      "cell_type": "code",
      "source": [
        "# Initialize game state\n",
        "game_state = {\n",
        "    'answer_word': 'Python',\n",
        "    'masked_word': mask_word('Python'),\n",
        "    'previous_guesses': [],\n",
        "    'remaining_misses': 5,\n",
        "}\n",
        "\n",
        "# Player guesses 'p'\n",
        "guess_letter(game_state, 'p')\n",
        "print(game_state['masked_word'])\n",
        "print(game_state['remaining_misses'])\n",
        "\n",
        "# Player guesses 'x'\n",
        "guess_letter(game_state, 'x')\n",
        "print(game_state['masked_word'])\n",
        "print(game_state['remaining_misses'])\n"
      ],
      "metadata": {
        "colab": {
          "base_uri": "https://localhost:8080/"
        },
        "id": "wiKQ8I-G2IvY",
        "outputId": "37318f36-ced2-4dd1-db14-79d5c295bc3a"
      },
      "execution_count": 21,
      "outputs": [
        {
          "output_type": "stream",
          "name": "stdout",
          "text": [
            "p*****\n",
            "5\n",
            "p*****\n",
            "4\n"
          ]
        }
      ]
    },
    {
      "cell_type": "code",
      "source": [
        "game = {\n",
        "    'answer_word': 'python',\n",
        "    'masked_word': '******',\n",
        "    'previous_guesses': [],\n",
        "    'remaining_misses': 5,\n",
        "}\n"
      ],
      "metadata": {
        "id": "7f5W6KpR2PMB"
      },
      "execution_count": 22,
      "outputs": []
    },
    {
      "cell_type": "markdown",
      "source": [
        "Edge Cases:\n"
      ],
      "metadata": {
        "id": "G8RU4XEa2UBy"
      }
    },
    {
      "cell_type": "markdown",
      "source": [
        "Game Already Over:\n",
        "\n"
      ],
      "metadata": {
        "id": "32eoMlVZ2V8o"
      }
    },
    {
      "cell_type": "code",
      "source": [
        "# Simulate a finished game\n",
        "game_state['remaining_misses'] = 0\n",
        "try:\n",
        "    guess_letter(game_state, 'a')\n",
        "except ValueError as e:\n",
        "    print(e)\n"
      ],
      "metadata": {
        "colab": {
          "base_uri": "https://localhost:8080/"
        },
        "id": "9RRxG2192RRK",
        "outputId": "4d232fb7-6743-4e0d-b6cd-fa363568eacf"
      },
      "execution_count": 24,
      "outputs": [
        {
          "output_type": "stream",
          "name": "stdout",
          "text": [
            "Game is already over.\n"
          ]
        }
      ]
    },
    {
      "cell_type": "markdown",
      "source": [
        "Repeated Guess:\n",
        "\n"
      ],
      "metadata": {
        "id": "rCrJLDG_2a78"
      }
    },
    {
      "cell_type": "code",
      "source": [
        "# Reset game state\n",
        "game_state['remaining_misses'] = 5\n",
        "game_state['previous_guesses'] = ['p']\n",
        "guess_letter(game_state, 'p')\n"
      ],
      "metadata": {
        "colab": {
          "base_uri": "https://localhost:8080/"
        },
        "id": "e690HPjK2YYk",
        "outputId": "81e22833-485d-4f0b-b0ac-02b5706ed454"
      },
      "execution_count": 25,
      "outputs": [
        {
          "output_type": "stream",
          "name": "stdout",
          "text": [
            "You've already guessed 'p'. Try another letter.\n"
          ]
        },
        {
          "output_type": "execute_result",
          "data": {
            "text/plain": [
              "{'answer_word': 'Python',\n",
              " 'masked_word': 'p*****',\n",
              " 'previous_guesses': ['p'],\n",
              " 'remaining_misses': 5}"
            ]
          },
          "metadata": {},
          "execution_count": 25
        }
      ]
    },
    {
      "cell_type": "markdown",
      "source": [
        "Combining Functions into the Game Logic"
      ],
      "metadata": {
        "id": "J1wzpx0u2ic0"
      }
    },
    {
      "cell_type": "markdown",
      "source": [
        "Main Game Function: start_new_game\n"
      ],
      "metadata": {
        "id": "nf60v-4M2kHd"
      }
    },
    {
      "cell_type": "code",
      "source": [
        "def start_new_game(word_list, number_of_guesses=5):\n",
        "    \"\"\"\n",
        "    Starts a new game of Hangman.\n",
        "\n",
        "    Parameters:\n",
        "    - word_list (list): A list of words to choose from.\n",
        "    - number_of_guesses (int): The number of incorrect guesses allowed.\n",
        "\n",
        "    Returns:\n",
        "    - None\n",
        "    \"\"\"\n",
        "    answer_word = get_random_word(word_list)\n",
        "    masked_word = mask_word(answer_word)\n",
        "    game = {\n",
        "        'answer_word': answer_word,\n",
        "        'masked_word': masked_word,\n",
        "        'previous_guesses': [],\n",
        "        'remaining_misses': number_of_guesses,\n",
        "    }\n",
        "\n",
        "    print(\"Welcome to Hangman!\")\n",
        "    print(f\"The word is: {game['masked_word']}\")\n",
        "\n",
        "    while game['remaining_misses'] > 0 and '*' in game['masked_word']:\n",
        "        guessed_letter = input(\"Guess a letter: \").strip().lower()\n",
        "        try:\n",
        "            game = guess_letter(game, guessed_letter)\n",
        "            print(f\"Word: {game['masked_word']}\")\n",
        "            print(f\"Remaining Misses: {game['remaining_misses']}\")\n",
        "            print(f\"Previous Guesses: {', '.join(game['previous_guesses'])}\")\n",
        "        except ValueError as e:\n",
        "            print(e)\n",
        "\n",
        "    if game['remaining_misses'] == 0:\n",
        "        print(f\"Sorry, you've lost! The word was '{game['answer_word']}'.\")\n",
        "    else:\n",
        "        print(\"Great job! You've guessed the word!\")\n",
        "\n",
        "# Example word list\n",
        "word_list = [\"Python\", \"Hangman\", \"Programming\", \"Data\", \"Science\"]\n"
      ],
      "metadata": {
        "id": "Qe7g0nhN2dMU"
      },
      "execution_count": 26,
      "outputs": []
    },
    {
      "cell_type": "markdown",
      "source": [
        "Testing the Game with Examples"
      ],
      "metadata": {
        "id": "almbWP7W2wNa"
      }
    },
    {
      "cell_type": "markdown",
      "source": [
        "Example 1: Successful Game\n"
      ],
      "metadata": {
        "id": "mgdgJWQO2yga"
      }
    },
    {
      "cell_type": "code",
      "source": [
        "start_new_game(word_list)\n",
        "a"
      ],
      "metadata": {
        "colab": {
          "base_uri": "https://localhost:8080/"
        },
        "id": "V0Xn1cFZ2q_V",
        "outputId": "0ae8a0ad-4c88-4f9d-a02a-a5313f82c9d8"
      },
      "execution_count": 28,
      "outputs": [
        {
          "output_type": "stream",
          "name": "stdout",
          "text": [
            "Welcome to Hangman!\n",
            "The word is: ****\n",
            "Guess a letter: d\n",
            "Word: d***\n",
            "Remaining Misses: 5\n",
            "Previous Guesses: d\n",
            "Guess a letter: a\n",
            "Word: da*a\n",
            "Remaining Misses: 5\n",
            "Previous Guesses: d, a\n",
            "Guess a letter: t\n",
            "Congratulations! You've won the game!\n",
            "Word: data\n",
            "Remaining Misses: 5\n",
            "Previous Guesses: d, a, t\n",
            "Great job! You've guessed the word!\n"
          ]
        }
      ]
    },
    {
      "cell_type": "markdown",
      "source": [
        "Example 2: Unsuccessful Game\n"
      ],
      "metadata": {
        "id": "JeACpt1F3K5H"
      }
    },
    {
      "cell_type": "code",
      "source": [
        "start_new_game(word_list)\n"
      ],
      "metadata": {
        "colab": {
          "base_uri": "https://localhost:8080/"
        },
        "id": "vkFxhOhr20pk",
        "outputId": "9e6cb585-6dd9-413d-db8f-a7b0e4f1b9db"
      },
      "execution_count": 29,
      "outputs": [
        {
          "output_type": "stream",
          "name": "stdout",
          "text": [
            "Welcome to Hangman!\n",
            "The word is: ******\n",
            "Guess a letter: s\n",
            "Word: ******\n",
            "Remaining Misses: 4\n",
            "Previous Guesses: s\n",
            "Guess a letter: \n",
            "Invalid guessed letter. Must be a single character.\n",
            "Guess a letter: w\n",
            "Word: ******\n",
            "Remaining Misses: 3\n",
            "Previous Guesses: s, w\n",
            "Guess a letter: f\n",
            "Word: ******\n",
            "Remaining Misses: 2\n",
            "Previous Guesses: s, w, f\n",
            "Guess a letter: \n",
            "Invalid guessed letter. Must be a single character.\n",
            "Guess a letter: f\n",
            "You've already guessed 'f'. Try another letter.\n",
            "Word: ******\n",
            "Remaining Misses: 2\n",
            "Previous Guesses: s, w, f\n",
            "Guess a letter: s\n",
            "You've already guessed 's'. Try another letter.\n",
            "Word: ******\n",
            "Remaining Misses: 2\n",
            "Previous Guesses: s, w, f\n",
            "Guess a letter: a\n",
            "Word: ******\n",
            "Remaining Misses: 1\n",
            "Previous Guesses: s, w, f, a\n",
            "Guess a letter: n\n",
            "Word: *****n\n",
            "Remaining Misses: 1\n",
            "Previous Guesses: s, w, f, a, n\n",
            "Guess a letter: m\n",
            "Game over! The word was 'Python'. Better luck next time!\n",
            "Word: *****n\n",
            "Remaining Misses: 0\n",
            "Previous Guesses: s, w, f, a, n, m\n",
            "Sorry, you've lost! The word was 'Python'.\n"
          ]
        }
      ]
    },
    {
      "cell_type": "markdown",
      "source": [
        "Example 3: Handling Invalid Inputs\n"
      ],
      "metadata": {
        "id": "FxsJuK7c3WbV"
      }
    },
    {
      "cell_type": "code",
      "source": [
        "start_new_game(word_list)\n"
      ],
      "metadata": {
        "colab": {
          "base_uri": "https://localhost:8080/"
        },
        "id": "0dljtfUn3N5F",
        "outputId": "8bc73102-c984-4944-be8c-1a6c3ab5b25b"
      },
      "execution_count": 30,
      "outputs": [
        {
          "output_type": "stream",
          "name": "stdout",
          "text": [
            "Welcome to Hangman!\n",
            "The word is: *******\n",
            "Guess a letter: 12\n",
            "Invalid guessed letter. Must be a single character.\n",
            "Guess a letter: -\n",
            "Word: *******\n",
            "Remaining Misses: 4\n",
            "Previous Guesses: -\n",
            "Guess a letter: +\n",
            "Word: *******\n",
            "Remaining Misses: 3\n",
            "Previous Guesses: -, +\n",
            "Guess a letter: 15\n",
            "Invalid guessed letter. Must be a single character.\n",
            "Guess a letter: #\n",
            "Word: *******\n",
            "Remaining Misses: 2\n",
            "Previous Guesses: -, +, #\n",
            "Guess a letter: %\n",
            "Word: *******\n",
            "Remaining Misses: 1\n",
            "Previous Guesses: -, +, #, %\n",
            "Guess a letter: ^\n",
            "Game over! The word was 'Science'. Better luck next time!\n",
            "Word: *******\n",
            "Remaining Misses: 0\n",
            "Previous Guesses: -, +, #, %, ^\n",
            "Sorry, you've lost! The word was 'Science'.\n"
          ]
        }
      ]
    },
    {
      "cell_type": "markdown",
      "source": [
        "Displaying the Hangman Diagram"
      ],
      "metadata": {
        "id": "tmxCgoJu3j1p"
      }
    },
    {
      "cell_type": "code",
      "source": [
        "def display_hangman(remaining_misses):\n",
        "    stages = [\n",
        "        \"\"\"\n",
        "           ------\n",
        "           |    |\n",
        "           |    O\n",
        "           |   /|\\\\\n",
        "           |    |\n",
        "           |   / \\\\\n",
        "           -\n",
        "        \"\"\",\n",
        "        # (Add intermediate stages here)\n",
        "        \"\"\"\n",
        "           ------\n",
        "           |    |\n",
        "           |    O\n",
        "           |   /|\\\\\n",
        "           |    |\n",
        "           |\n",
        "           -\n",
        "        \"\"\",\n",
        "        # ...\n",
        "        \"\"\"\n",
        "           ------\n",
        "           |    |\n",
        "           |\n",
        "           |\n",
        "           |\n",
        "           |\n",
        "           -\n",
        "        \"\"\"\n",
        "    ]\n",
        "    print(stages[-(remaining_misses + 1)])\n"
      ],
      "metadata": {
        "id": "nNy4Wglo3YOC"
      },
      "execution_count": 31,
      "outputs": []
    },
    {
      "cell_type": "markdown",
      "source": [
        "Word Categories"
      ],
      "metadata": {
        "id": "uSq5x-LH3pNL"
      }
    },
    {
      "cell_type": "code",
      "source": [
        "word_categories = {\n",
        "    'Animals': ['Elephant', 'Giraffe', 'Kangaroo'],\n",
        "    'Fruits': ['Apple', 'Banana', 'Cherry'],\n",
        "    'Programming Languages': ['Python', 'Java', 'CSharp']\n",
        "}\n",
        "\n",
        "def start_new_game_with_category(word_categories):\n",
        "    print(\"Select a category:\")\n",
        "    for idx, category in enumerate(word_categories.keys(), 1):\n",
        "        print(f\"{idx}. {category}\")\n",
        "    choice = int(input(\"Enter the number of your choice: \"))\n",
        "    selected_category = list(word_categories.keys())[choice - 1]\n",
        "    word_list = word_categories[selected_category]\n",
        "    start_new_game(word_list)\n"
      ],
      "metadata": {
        "id": "owAy3XgE3mpo"
      },
      "execution_count": 32,
      "outputs": []
    },
    {
      "cell_type": "markdown",
      "source": [
        "Conclusion\n"
      ],
      "metadata": {
        "id": "NtgDnUqU4Gib"
      }
    },
    {
      "cell_type": "markdown",
      "source": [
        "In Python, using Google Colab, a complete functional Hangman game has been developed. This project allowed us to:\n",
        "\n",
        "Employed modular programming techniques through the decomposition of games into smaller, more manageable functions.\n",
        "\n",
        "Ensured readability of code and professional standards.\n",
        "\n",
        "Included explanations and examples to deepen the understanding.\n",
        "\n",
        "Explored enhancements to make the game more engaging.\n",
        "\n",
        "Modularity: Decomposing complex issues into smaller functions enhances code maintainability and readability.\n",
        "\n",
        "Validation: Always validate inputs for grace in case of unexpected user behavior.\n",
        "\n",
        "User Experience: Improvement on the user interface, even on the console application, can increase engagement a lot."
      ],
      "metadata": {
        "id": "b8em8SZj4KFO"
      }
    },
    {
      "cell_type": "markdown",
      "source": [
        "The pickle module in Python allows you to serialize and deserialize Python objects. Serialization means converting a Python object into a byte stream, and deserialization is the inverse process."
      ],
      "metadata": {
        "id": "2-SzDSMT4p9l"
      }
    },
    {
      "cell_type": "markdown",
      "source": [
        "Complete Code with Save and Load Features"
      ],
      "metadata": {
        "id": "4KTOdOhy44Bc"
      }
    },
    {
      "cell_type": "code",
      "source": [
        "import random\n",
        "import pickle\n",
        "import os\n",
        "\n",
        "def mask_word(word):\n",
        "    if not word:\n",
        "        raise ValueError(\"Invalid word. Word cannot be empty.\")\n",
        "    return '*' * len(word)\n",
        "\n",
        "def uncover_word(answer_word, masked_word, guessed_letter):\n",
        "    if not answer_word or not masked_word or not guessed_letter:\n",
        "        raise ValueError(\"Invalid input. None of the parameters can be empty.\")\n",
        "\n",
        "    if len(guessed_letter) != 1:\n",
        "        raise ValueError(\"Invalid guessed letter. Must be a single character.\")\n",
        "\n",
        "    if len(answer_word) != len(masked_word):\n",
        "        raise ValueError(\"Answer word and masked word must be of the same length.\")\n",
        "\n",
        "    guessed_letter = guessed_letter.lower()\n",
        "    answer_word = answer_word.lower()\n",
        "    masked_word = list(masked_word)\n",
        "\n",
        "    for idx, char in enumerate(answer_word):\n",
        "        if char == guessed_letter:\n",
        "            masked_word[idx] = guessed_letter\n",
        "\n",
        "    return ''.join(masked_word)\n",
        "\n",
        "def get_random_word(word_list):\n",
        "    if not word_list:\n",
        "        raise ValueError(\"Word list cannot be empty.\")\n",
        "    return random.choice(word_list)\n",
        "\n",
        "def guess_letter(game, guessed_letter):\n",
        "    if game.get('remaining_misses') == 0 or '*' not in game.get('masked_word', ''):\n",
        "        raise ValueError(\"Game is already over.\")\n",
        "\n",
        "    if not guessed_letter or len(guessed_letter) != 1:\n",
        "        raise ValueError(\"Invalid guessed letter. Must be a single character.\")\n",
        "\n",
        "    guessed_letter = guessed_letter.lower()\n",
        "    answer_word = game['answer_word'].lower()\n",
        "\n",
        "    if guessed_letter in game['previous_guesses']:\n",
        "        print(f\"You've already guessed '{guessed_letter}'. Try another letter.\")\n",
        "        return game\n",
        "\n",
        "    game['previous_guesses'].append(guessed_letter)\n",
        "\n",
        "    if guessed_letter in answer_word:\n",
        "        new_masked_word = uncover_word(game['answer_word'], game['masked_word'], guessed_letter)\n",
        "        game['masked_word'] = new_masked_word\n",
        "        if '*' not in new_masked_word:\n",
        "            print(\"Congratulations! You've won the game!\")\n",
        "    else:\n",
        "        game['remaining_misses'] -= 1\n",
        "        print(f\"Incorrect guess. You have {game['remaining_misses']} misses remaining.\")\n",
        "        if game['remaining_misses'] == 0:\n",
        "            print(f\"Game over! The word was '{game['answer_word']}'. Better luck next time!\")\n",
        "\n",
        "    return game\n",
        "\n",
        "def save_game(game_state, filename='hangman_save.pkl'):\n",
        "    with open(filename, 'wb') as file:\n",
        "        pickle.dump(game_state, file)\n",
        "    print(\"Game saved successfully!\")\n",
        "\n",
        "def load_game(filename='hangman_save.pkl'):\n",
        "    if not os.path.exists(filename):\n",
        "        print(\"No saved game found.\")\n",
        "        return None\n",
        "    with open(filename, 'rb') as file:\n",
        "        game_state = pickle.load(file)\n",
        "    print(\"Game loaded successfully!\")\n",
        "    return game_state\n",
        "\n",
        "def start_new_game(word_list, number_of_guesses=5):\n",
        "    print(\"Welcome to Hangman!\")\n",
        "    print(\"1. Start a new game\")\n",
        "    print(\"2. Load saved game\")\n",
        "    choice = input(\"Enter your choice (1 or 2): \").strip()\n",
        "\n",
        "    if choice == '1':\n",
        "        answer_word = get_random_word(word_list)\n",
        "        masked_word = mask_word(answer_word)\n",
        "        game = {\n",
        "            'answer_word': answer_word,\n",
        "            'masked_word': masked_word,\n",
        "            'previous_guesses': [],\n",
        "            'remaining_misses': number_of_guesses,\n",
        "        }\n",
        "    elif choice == '2':\n",
        "        game = load_game()\n",
        "        if game is None:\n",
        "            # If no saved game is found, start a new game\n",
        "            answer_word = get_random_word(word_list)\n",
        "            masked_word = mask_word(answer_word)\n",
        "            game = {\n",
        "                'answer_word': answer_word,\n",
        "                'masked_word': masked_word,\n",
        "                'previous_guesses': [],\n",
        "                'remaining_misses': number_of_guesses,\n",
        "            }\n",
        "    else:\n",
        "        print(\"Invalid choice. Starting a new game by default.\")\n",
        "        answer_word = get_random_word(word_list)\n",
        "        masked_word = mask_word(answer_word)\n",
        "        game = {\n",
        "            'answer_word': answer_word,\n",
        "            'masked_word': masked_word,\n",
        "            'previous_guesses': [],\n",
        "            'remaining_misses': number_of_guesses,\n",
        "        }\n",
        "\n",
        "    print(f\"The word is: {game['masked_word']}\")\n",
        "\n",
        "    # Start the game loop\n",
        "    game_loop(game)\n",
        "\n",
        "def game_loop(game):\n",
        "    while game['remaining_misses'] > 0 and '*' in game['masked_word']:\n",
        "        print(\"\\nOptions:\")\n",
        "        print(\"1. Guess a letter\")\n",
        "        print(\"2. Save game\")\n",
        "        choice = input(\"Enter your choice (1 or 2): \").strip()\n",
        "\n",
        "        if choice == '1':\n",
        "            guessed_letter = input(\"Guess a letter: \").strip().lower()\n",
        "            try:\n",
        "                game = guess_letter(game, guessed_letter)\n",
        "                print(f\"Word: {game['masked_word']}\")\n",
        "                print(f\"Remaining Misses: {game['remaining_misses']}\")\n",
        "                print(f\"Previous Guesses: {', '.join(game['previous_guesses'])}\")\n",
        "            except ValueError as e:\n",
        "                print(e)\n",
        "        elif choice == '2':\n",
        "            save_game(game)\n",
        "        else:\n",
        "            print(\"Invalid choice. Please select 1 or 2.\")\n",
        "\n",
        "    if game['remaining_misses'] == 0:\n",
        "        print(f\"Sorry, you've lost! The word was '{game['answer_word']}'.\")\n",
        "        if os.path.exists('hangman_save.pkl'):\n",
        "            os.remove('hangman_save.pkl')\n",
        "    elif '*' not in game['masked_word']:\n",
        "        print(\"Great job! You've guessed the word!\")\n",
        "        if os.path.exists('hangman_save.pkl'):\n",
        "            os.remove('hangman_save.pkl')\n",
        "\n",
        "# Example word list\n",
        "word_list = [\"Python\", \"Hangman\", \"Programming\", \"Data\", \"Science\"]\n",
        "\n",
        "# Start the game\n",
        "start_new_game(word_list)\n"
      ],
      "metadata": {
        "colab": {
          "base_uri": "https://localhost:8080/"
        },
        "id": "c8pInYOP4PYf",
        "outputId": "175d68a1-6dac-4701-830d-aa8ba389dd6a"
      },
      "execution_count": 34,
      "outputs": [
        {
          "output_type": "stream",
          "name": "stdout",
          "text": [
            "Welcome to Hangman!\n",
            "1. Start a new game\n",
            "2. Load saved game\n",
            "Enter your choice (1 or 2): 1\n",
            "The word is: *******\n",
            "\n",
            "Options:\n",
            "1. Guess a letter\n",
            "2. Save game\n",
            "Enter your choice (1 or 2): 1\n",
            "Guess a letter: S\n",
            "Word: s******\n",
            "Remaining Misses: 5\n",
            "Previous Guesses: s\n",
            "\n",
            "Options:\n",
            "1. Guess a letter\n",
            "2. Save game\n",
            "Enter your choice (1 or 2): 1\n",
            "Guess a letter: c\n",
            "Word: sc***c*\n",
            "Remaining Misses: 5\n",
            "Previous Guesses: s, c\n",
            "\n",
            "Options:\n",
            "1. Guess a letter\n",
            "2. Save game\n",
            "Enter your choice (1 or 2): 1\n",
            "Guess a letter: i\n",
            "Word: sci**c*\n",
            "Remaining Misses: 5\n",
            "Previous Guesses: s, c, i\n",
            "\n",
            "Options:\n",
            "1. Guess a letter\n",
            "2. Save game\n",
            "Enter your choice (1 or 2): 1\n",
            "Guess a letter: e\n",
            "Word: scie*ce\n",
            "Remaining Misses: 5\n",
            "Previous Guesses: s, c, i, e\n",
            "\n",
            "Options:\n",
            "1. Guess a letter\n",
            "2. Save game\n",
            "Enter your choice (1 or 2): 1\n",
            "Guess a letter: n\n",
            "Congratulations! You've won the game!\n",
            "Word: science\n",
            "Remaining Misses: 5\n",
            "Previous Guesses: s, c, i, e, n\n",
            "Great job! You've guessed the word!\n"
          ]
        }
      ]
    },
    {
      "cell_type": "code",
      "source": [],
      "metadata": {
        "id": "dyY39EFj44-O"
      },
      "execution_count": null,
      "outputs": []
    }
  ]
}